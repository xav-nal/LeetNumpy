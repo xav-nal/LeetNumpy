{
 "cells": [
  {
   "cell_type": "markdown",
   "id": "3706b3cf-657e-4ccd-a390-57864a554ee0",
   "metadata": {},
   "source": [
    "### MSE and MAE\n",
    "Description\n",
    "\n",
    "In machine learning, Mean Squared Error (MSE) and Mean Absolute Error (MAE) are common loss functions used for regression tasks. Given matrices for weights, input data, and target data, compute the loss functions as follows\n",
    "\n",
    "$$\n",
    "\\begin{array}{rl}\n",
    "\\text{MSE} &= \\frac{1}{2n} \\sum_{i=1}^{n} (y_i - \\hat{y}_i)^2 \n",
    "\\qquad\n",
    "\\text{MAE} &= \\frac{1}{n} \\sum_{i=1}^{n} |y_i - \\hat{y}_i|\n",
    "\\end{array}\n",
    "$$\n",
    "\n",
    "Where: $\\hat{y} = w \\cdot x $."
   ]
  },
  {
   "cell_type": "markdown",
   "id": "19701dd2-df0e-4066-955a-5400604720e4",
   "metadata": {},
   "source": [
    "### Code"
   ]
  },
  {
   "cell_type": "code",
   "execution_count": null,
   "id": "ef86138e-2a52-4144-89dc-3c2ea5eb66e0",
   "metadata": {},
   "outputs": [],
   "source": [
    "import numpy as np\n",
    "def compute_mse_and_mae(y: np.ndarray, x: np.ndarray, w: np.ndarray) -> tuple:\n",
    "    # ***************************************************\n",
    "    # INSERT YOUR CODE HERE\n",
    "    # ***************************************************\n",
    "    return (0, 0)"
   ]
  },
  {
   "cell_type": "markdown",
   "id": "96fae363-ef0d-4e39-a693-d3b90a944f2f",
   "metadata": {},
   "source": [
    "### Run"
   ]
  },
  {
   "cell_type": "code",
   "execution_count": null,
   "id": "aaf28f59-5eda-4787-b2ec-c3c74934920d",
   "metadata": {},
   "outputs": [],
   "source": [
    "from solutions import compute_mse_and_mae_sol\n",
    "# Data generation\n",
    "np.random.seed(42)\n",
    "n_samples = 100\n",
    "n_features = 3\n",
    "\n",
    "X = np.random.rand(n_samples, n_features)\n",
    "w = np.random.rand(n_features)\n",
    "\n",
    "epsilon = np.random.normal(0, 0.1, n_samples)\n",
    "y = X.dot(w) + epsilon\n",
    "\n",
    "# Run\n",
    "losses = compute_mse_and_mae(y, X, w)   \n",
    "solutions = compute_mse_and_mae_sol(y, X, w) \n",
    "\n",
    "assert losses == solutions, \"Error: The losses are not equal\"\n",
    "\n",
    "print(\"Test are working\")"
   ]
  }
 ],
 "metadata": {
  "kernelspec": {
   "display_name": "Python 3 (ipykernel)",
   "language": "python",
   "name": "python3"
  },
  "language_info": {
   "codemirror_mode": {
    "name": "ipython",
    "version": 3
   },
   "file_extension": ".py",
   "mimetype": "text/x-python",
   "name": "python",
   "nbconvert_exporter": "python",
   "pygments_lexer": "ipython3",
   "version": "3.9.21"
  }
 },
 "nbformat": 4,
 "nbformat_minor": 5
}
