{
 "cells": [
  {
   "cell_type": "markdown",
   "id": "e1c44f89-453c-4122-88de-a336ac4e7bbf",
   "metadata": {},
   "source": [
    "### 4. Finding the Corresponding Point Between Two Images\n",
    "Description:\n",
    "\n",
    "In this problem, you're given two matrices, A and B, where each matrix contains the coordinates of points in two images (i.e., A for image 1 and B for image 2). The task is to find the corresponding point in B for a specific point in A, by computing the Euclidean distance between all points in A and B and selecting the point in B that is closest to the given point in A"
   ]
  },
  {
   "cell_type": "markdown",
   "id": "df8e50cf-94fb-4057-90bc-25a020670b93",
   "metadata": {},
   "source": [
    "### Code"
   ]
  },
  {
   "cell_type": "code",
   "execution_count": null,
   "id": "576a1007-7f6f-4938-9252-093a9903b271",
   "metadata": {},
   "outputs": [],
   "source": [
    "import numpy as np\n",
    "def find_corresponding_points(img1: np.ndarray, img2: np.ndarray) -> np.ndarray:\n",
    "    # ***************************************************\n",
    "    # INSERT YOUR CODE HERE\n",
    "    # ***************************************************\n",
    "    corresponding_indices = np.zeros(img1.shape[0])\n",
    "    return corresponding_indices"
   ]
  },
  {
   "cell_type": "markdown",
   "id": "86772b85-2f92-45b4-b5fb-e2fe6acf9d9f",
   "metadata": {},
   "source": [
    "### Run"
   ]
  },
  {
   "cell_type": "code",
   "execution_count": null,
   "id": "2eb2622f-db0e-47c4-b83b-24d7da49db56",
   "metadata": {},
   "outputs": [],
   "source": [
    "from solutions import find_corresponding_points_sol\n",
    "\n",
    "# Data generation\n",
    "np.random.seed(42)\n",
    "img1 = np.random.rand(10, 2) * 10\n",
    "img2 = img1 + np.random.normal(0, 0.2, img1.shape)\n",
    "np.random.shuffle(img2) \n",
    "\n",
    "# Run\n",
    "corresponding_indices = find_corresponding_points(img1, img2)\n",
    "solution = find_corresponding_points_sol(img1, img2)\n",
    "assert np.array_equal(corresponding_indices, solution), f\"Error: Matrices do not match\"\n",
    "\n",
    "print(\"Test are working\")"
   ]
  }
 ],
 "metadata": {
  "kernelspec": {
   "display_name": "Python 3 (ipykernel)",
   "language": "python",
   "name": "python3"
  },
  "language_info": {
   "codemirror_mode": {
    "name": "ipython",
    "version": 3
   },
   "file_extension": ".py",
   "mimetype": "text/x-python",
   "name": "python",
   "nbconvert_exporter": "python",
   "pygments_lexer": "ipython3",
   "version": "3.9.21"
  }
 },
 "nbformat": 4,
 "nbformat_minor": 5
}
