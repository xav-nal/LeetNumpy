{
 "cells": [
  {
   "cell_type": "markdown",
   "id": "1a4c0e99-de2f-4106-aea1-7fc5b6dc5fdc",
   "metadata": {},
   "source": [
    "### 6 Likelihood\n",
    "\n",
    "You are given a distribution defined by a mean $\\mu$ and covariance matrix $\\Sigma$. You are also provided with a list of samples. Your task is to detect which sample(s) do not belong to the distribution based on their likelihood, with a threshold of 0.1. Specifically, you need to identify samples whose likelihood is below 0.1.\n",
    "\n",
    "To do this, you must implement the function below, which calculates the likelihood of each sample under a multivariate normal distribution:\n",
    "\n",
    "$$p(x | \\mu, \\Sigma) = \\frac{1}{(2\\pi)^{d/2} |\\Sigma|^{1/2}} \\exp\\left(-\\frac{1}{2}(x - \\mu)^T\\Sigma^{-1}(x-\\mu)\\right)$$"
   ]
  },
  {
   "cell_type": "markdown",
   "id": "f0f60fe5-e198-4703-8223-a1093deb4dc6",
   "metadata": {},
   "source": [
    "### Code"
   ]
  },
  {
   "cell_type": "code",
   "execution_count": null,
   "id": "6411fd2b-858d-4076-a655-e0c07107f439",
   "metadata": {},
   "outputs": [],
   "source": [
    "import numpy as np\n",
    "\n",
    "def compute_log_proba(X, mean, sigma):\n",
    "    # ***************************************************\n",
    "    # INSERT YOUR CODE HERE\n",
    "    # ***************************************************\n",
    "    return  0.5"
   ]
  },
  {
   "cell_type": "markdown",
   "id": "d3d7b557-0b1c-4f58-9939-4e0201ab5cab",
   "metadata": {},
   "source": [
    "### Run"
   ]
  },
  {
   "cell_type": "code",
   "execution_count": null,
   "id": "6dd5dc4f-554b-4a69-8587-7ac54070e386",
   "metadata": {},
   "outputs": [],
   "source": [
    "# Data generation\n",
    "n, d = 100, 2\n",
    "np.random.seed(42)\n",
    "X = np.random.rand(n, d)\n",
    "mean = np.random.rand(d) * 0.5 + 0.5 \n",
    "sigma = np.diag(np.random.rand(d))\n",
    "print(\"X shape\", X.shape)\n",
    "print(\"mean\", mean)\n",
    "print(\"sigma\", sigma)"
   ]
  },
  {
   "cell_type": "code",
   "execution_count": null,
   "id": "4815d461-2137-42a7-aa64-20de32b6f057",
   "metadata": {},
   "outputs": [],
   "source": [
    "from solutions import compute_log_proba_sol \n",
    "log_pro = compute_log_proba(X, mean, sigma)\n",
    "log_sol = compute_log_proba_sol(X, mean, sigma)\n",
    "assert np.array_equal(log_pro, log_sol), \"Error: The losses are not equal\""
   ]
  },
  {
   "cell_type": "markdown",
   "id": "18eeef0f-32ca-462a-b324-f81485602f3b",
   "metadata": {},
   "source": [
    "### Visualization"
   ]
  },
  {
   "cell_type": "code",
   "execution_count": null,
   "id": "e8ab00ef-98bf-4d97-8cfb-14246e794eee",
   "metadata": {},
   "outputs": [],
   "source": [
    "threshold = np.percentile(log_sol, 50)\n",
    "colors = np.ones(log_sol.shape, dtype=object) \n",
    "colors[:] = 'green'\n",
    "colors[log_sol < threshold] = 'red'"
   ]
  },
  {
   "cell_type": "code",
   "execution_count": null,
   "id": "5861d638-16fe-4c8c-a31b-2178670664db",
   "metadata": {},
   "outputs": [],
   "source": [
    "import matplotlib.pyplot as plt\n",
    "from matplotlib.patches import Ellipse\n",
    "\n",
    "plt.title(\"test\")\n",
    "plt.scatter(X[:, 0], X[:, 1], c=colors, s=100)\n",
    "plt.scatter(mean[0], mean[1], marker='*', color='red', s=200)\n",
    "\n",
    "eigvals, eigvecs = np.linalg.eig(sigma)\n",
    "theta = np.degrees(np.arctan2(*eigvecs[:, 0][::-1]))\n",
    "width, height = 2 * np.sqrt(eigvals)\n",
    "ellipse = Ellipse(xy=mean, width=width, height=height, angle=theta, color='blue', alpha=0.3)\n",
    "plt.gca().add_patch(ellipse)\n",
    "\n",
    "plt.show()"
   ]
  }
 ],
 "metadata": {
  "kernelspec": {
   "display_name": "Python 3 (ipykernel)",
   "language": "python",
   "name": "python3"
  },
  "language_info": {
   "codemirror_mode": {
    "name": "ipython",
    "version": 3
   },
   "file_extension": ".py",
   "mimetype": "text/x-python",
   "name": "python",
   "nbconvert_exporter": "python",
   "pygments_lexer": "ipython3",
   "version": "3.9.21"
  }
 },
 "nbformat": 4,
 "nbformat_minor": 5
}
