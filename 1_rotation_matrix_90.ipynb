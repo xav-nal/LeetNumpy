{
 "cells": [
  {
   "cell_type": "markdown",
   "id": "0216e203-d787-4f31-88e0-f9b1fb7115ae",
   "metadata": {},
   "source": [
    "### 1. Rotate Matrix by 90 Degrees\n",
    "Description:\n",
    "\n",
    "You are given a square matrix represented as a 2D NumPy array of size (n, n). Your task is to rotate the matrix by 90 degrees clockwise in-place and return the rotated matrix.\n",
    "\n",
    "$$\n",
    "\\begin{bmatrix}\n",
    "1 & 2 & 3 \\\\\n",
    "4 & 5 & 6 \\\\\n",
    "7 & 8 & 9\n",
    "\\end{bmatrix}\n",
    "\\quad\n",
    "\\longrightarrow\n",
    "\\quad\n",
    "\\begin{bmatrix}\n",
    "7 & 4 & 1 \\\\\n",
    "8 & 5 & 2 \\\\\n",
    "9 & 6 & 3\n",
    "\\end{bmatrix}\n",
    "$$"
   ]
  },
  {
   "cell_type": "markdown",
   "id": "1a6d3f8e-f3d8-40f1-800a-795346a2a58d",
   "metadata": {},
   "source": [
    "### Code"
   ]
  },
  {
   "cell_type": "code",
   "execution_count": null,
   "id": "85d5c057-119d-40d3-a699-86cd5d32970f",
   "metadata": {},
   "outputs": [],
   "source": [
    "import numpy as np\n",
    "def rotate_matrix_90(matrix: np.ndarray) -> np.ndarray:\n",
    "    # ***************************************************\n",
    "    # INSERT YOUR CODE HERE\n",
    "    # ***************************************************\n",
    "    return matrix"
   ]
  },
  {
   "cell_type": "markdown",
   "id": "4f3f9524-288d-46c0-9cff-70ca1f54db0b",
   "metadata": {},
   "source": [
    "### Run"
   ]
  },
  {
   "cell_type": "code",
   "execution_count": null,
   "id": "508c0fe0-197c-4335-8be6-ae500ec6054c",
   "metadata": {},
   "outputs": [],
   "source": [
    "from solutions import rotate_matrix_90_sol \n",
    "for n in range(0,11):\n",
    "    matrix = np.random.randint(1,10, size=(n, n))\n",
    "\n",
    "    matrix_sol = rotate_matrix_90_sol(matrix)\n",
    "    matrix = rotate_matrix_90(matrix)  \n",
    "\n",
    "    assert np.array_equal(matrix, matrix_sol), f\"Error: Matrices do not match for size {n}x{n}\"\n",
    "\n",
    "print(\"Test are working\")"
   ]
  }
 ],
 "metadata": {
  "kernelspec": {
   "display_name": "Python 3 (ipykernel)",
   "language": "python",
   "name": "python3"
  },
  "language_info": {
   "codemirror_mode": {
    "name": "ipython",
    "version": 3
   },
   "file_extension": ".py",
   "mimetype": "text/x-python",
   "name": "python",
   "nbconvert_exporter": "python",
   "pygments_lexer": "ipython3",
   "version": "3.9.21"
  }
 },
 "nbformat": 4,
 "nbformat_minor": 5
}
