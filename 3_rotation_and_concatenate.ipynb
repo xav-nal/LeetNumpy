{
 "cells": [
  {
   "cell_type": "markdown",
   "id": "41b4a13f-495e-449f-aa41-a2b8ea12d390",
   "metadata": {},
   "source": [
    "### 3. Rotate and Concatenate Matrix\n",
    "Description:\n",
    "\n",
    "You are given a square matrix represented as a 2D NumPy array of size (n, n). Your task is to rotate the matrix by 90, 180 and 270 degrees clockwise in-place and return the 3 rotated matrix concatenad.\n",
    "\n",
    "$$\n",
    "\\begin{bmatrix}\n",
    "1 & 2 & 3 \\\\\n",
    "4 & 5 & 6 \\\\\n",
    "7 & 8 & 9\n",
    "\\end{bmatrix}\n",
    "\\quad\n",
    "\\longrightarrow\n",
    "\\quad\n",
    "\\begin{bmatrix}\n",
    "7 & 4 & 1 & 9 & 8 & 7 & 3 & 6 & 9 \\\\\n",
    "8 & 5 & 2 & 6 & 5 & 4 & 2 & 5 & 8 \\\\\n",
    "9 & 6 & 3 & 3 & 2 & 1 & 1 & 4 & 7\n",
    "\\end{bmatrix}\n",
    "$$"
   ]
  },
  {
   "cell_type": "markdown",
   "id": "2abcee1d-e57a-433e-8678-dec5fdf2048b",
   "metadata": {},
   "source": [
    "### Code"
   ]
  },
  {
   "cell_type": "code",
   "execution_count": null,
   "id": "a83d6d01-b639-484f-aa16-e2f7f285d5b3",
   "metadata": {},
   "outputs": [],
   "source": [
    "import numpy as np\n",
    "def rotate_and_concatenate(matrix: np.ndarray) -> np.ndarray:\n",
    "    # ***************************************************\n",
    "    # INSERT YOUR CODE HERE\n",
    "    # ***************************************************\n",
    "    return np.hstack((matrix, matrix, matrix))"
   ]
  },
  {
   "cell_type": "markdown",
   "id": "3b46e788-5809-4838-ace3-4495b801b0c9",
   "metadata": {},
   "source": [
    "### Run"
   ]
  },
  {
   "cell_type": "code",
   "execution_count": null,
   "id": "4fc8e363-5bf7-4afb-b350-8e3540e125d1",
   "metadata": {},
   "outputs": [],
   "source": [
    "from solutions import rotate_and_concatenate_sol \n",
    "for n in range(0,11):\n",
    "    matrix = np.random.randint(1,10, size=(n, n))\n",
    "    \n",
    "    matrix_sol = rotate_and_concatenate_sol(matrix)   \n",
    "    matrix = rotate_and_concatenate(matrix)  \n",
    "\n",
    "    assert np.array_equal(matrix.shape,matrix_sol.shape), \"The matrice do not have the correct shape\"\n",
    "    assert np.array_equal(matrix, matrix_sol), f\"Error: Matrices do not match for size {n}x{n}\"\n",
    "    \n",
    "print(\"Test are working\")"
   ]
  }
 ],
 "metadata": {
  "kernelspec": {
   "display_name": "Python 3 (ipykernel)",
   "language": "python",
   "name": "python3"
  },
  "language_info": {
   "codemirror_mode": {
    "name": "ipython",
    "version": 3
   },
   "file_extension": ".py",
   "mimetype": "text/x-python",
   "name": "python",
   "nbconvert_exporter": "python",
   "pygments_lexer": "ipython3",
   "version": "3.9.21"
  }
 },
 "nbformat": 4,
 "nbformat_minor": 5
}
