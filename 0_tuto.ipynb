{
 "cells": [
  {
   "cell_type": "markdown",
   "id": "dc9fc9cf-d9d1-4231-a412-5408a5833586",
   "metadata": {},
   "source": [
    "# Numpy Basic"
   ]
  },
  {
   "cell_type": "code",
   "execution_count": 3,
   "id": "448bee5c-dbb7-4557-900a-5d2bc31ef9f4",
   "metadata": {},
   "outputs": [],
   "source": [
    "import numpy as np"
   ]
  },
  {
   "cell_type": "markdown",
   "id": "bc18632e-adcc-4085-b2ae-e4f359f4cc28",
   "metadata": {},
   "source": [
    "## Create an array"
   ]
  },
  {
   "cell_type": "code",
   "execution_count": 14,
   "id": "314fe8aa-3567-4d47-95e0-d43a9c01c452",
   "metadata": {},
   "outputs": [
    {
     "name": "stdout",
     "output_type": "stream",
     "text": [
      "shape: (3,) [1 2 3]\n",
      "shape: (3,) [1. 1. 1.]\n",
      "shape: (3,) [0. 0. 0.]\n",
      "shape: (3,) [0 1 2]\n",
      "shape: (3,) [ 0.2194478  -0.43260881 -0.37850734]\n"
     ]
    }
   ],
   "source": [
    "# Create array of 1D\n",
    "# create an array of shape (3,) with value (1,2,3)\n",
    "arr = np.array((1,2,3))\n",
    "print(\"shape:\", arr.shape ,arr)\n",
    "\n",
    "# create an array of shape (3,) with value (1,1,1)\n",
    "arr = np.ones((3,))\n",
    "print(\"shape:\", arr.shape ,arr)\n",
    "\n",
    "# create an array of shape (3,) with value (0,0,0)\n",
    "arr = np.zeros((3,))\n",
    "print(\"shape:\", arr.shape ,arr)\n",
    "\n",
    "# create an array of shape (3,) with value (0,1,2)\n",
    "arr = np.arange(3)\n",
    "print(\"shape:\", arr.shape ,arr)\n",
    "\n",
    "# create an array of shape (3,) with value with mean = 0 and variance = 1\n",
    "arr = np.random.randn(3)\n",
    "print(\"shape:\", arr.shape ,arr)"
   ]
  },
  {
   "cell_type": "code",
   "execution_count": 16,
   "id": "4f46934a-c619-442c-9baf-123702061668",
   "metadata": {},
   "outputs": [
    {
     "name": "stdout",
     "output_type": "stream",
     "text": [
      "shape: (2, 3) \n",
      " [[1 2 3]\n",
      " [4 5 6]]\n",
      "shape: (2, 3) \n",
      " [[1. 1. 1.]\n",
      " [1. 1. 1.]]\n",
      "shape: (2, 3) \n",
      " [[0. 0. 0.]\n",
      " [0. 0. 0.]]\n",
      "shape: (2, 3) \n",
      " [[0 1 2]\n",
      " [3 4 5]]\n",
      "shape: (2, 3) \n",
      " [[ 0.25685351  1.00013135 -0.24391872]\n",
      " [ 1.46308852 -0.06676965 -0.20903621]]\n"
     ]
    }
   ],
   "source": [
    "# Create array of 2D\n",
    "# create an array of shape (2,3) with value (1,2,3)\n",
    "arr = np.array(((1,2,3), (4,5,6)))\n",
    "print(\"shape:\", arr.shape, \"\\n\", arr)\n",
    "\n",
    "# create an array of shape (2,3) with value 1 values\n",
    "arr = np.ones((2, 3))\n",
    "print(\"shape:\", arr.shape, \"\\n\", arr)\n",
    "\n",
    "# create an array of shape (2,3) with value 0 values\n",
    "arr = np.zeros((2,3))\n",
    "print(\"shape:\", arr.shape, \"\\n\", arr)\n",
    "\n",
    "# create an array of shape (2,3) with value from 0 to 5\n",
    "arr = np.arange(6).reshape(2, 3)\n",
    "print(\"shape:\", arr.shape, \"\\n\", arr)\n",
    "\n",
    "# create an array of shape (2,3) with random value\n",
    "arr = np.random.randn(2, 3)\n",
    "print(\"shape:\", arr.shape, \"\\n\", arr)"
   ]
  },
  {
   "cell_type": "code",
   "execution_count": null,
   "id": "f5cd0619-4a8d-4ef7-991d-50dbd03b0e6c",
   "metadata": {},
   "outputs": [],
   "source": []
  }
 ],
 "metadata": {
  "kernelspec": {
   "display_name": "Python 3 (ipykernel)",
   "language": "python",
   "name": "python3"
  },
  "language_info": {
   "codemirror_mode": {
    "name": "ipython",
    "version": 3
   },
   "file_extension": ".py",
   "mimetype": "text/x-python",
   "name": "python",
   "nbconvert_exporter": "python",
   "pygments_lexer": "ipython3",
   "version": "3.9.21"
  }
 },
 "nbformat": 4,
 "nbformat_minor": 5
}
