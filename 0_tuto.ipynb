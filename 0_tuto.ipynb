{
 "cells": [
  {
   "cell_type": "markdown",
   "id": "dc9fc9cf-d9d1-4231-a412-5408a5833586",
   "metadata": {},
   "source": [
    "# Numpy Basic"
   ]
  },
  {
   "cell_type": "code",
   "execution_count": null,
   "id": "448bee5c-dbb7-4557-900a-5d2bc31ef9f4",
   "metadata": {},
   "outputs": [],
   "source": [
    "import numpy as np"
   ]
  },
  {
   "cell_type": "markdown",
   "id": "bc18632e-adcc-4085-b2ae-e4f359f4cc28",
   "metadata": {},
   "source": [
    "## Create an array"
   ]
  },
  {
   "cell_type": "code",
   "execution_count": null,
   "id": "314fe8aa-3567-4d47-95e0-d43a9c01c452",
   "metadata": {},
   "outputs": [],
   "source": [
    "# Create array of 1D\n",
    "# create an array of shape (3,) with value (1,2,3)\n",
    "arr = np.array((1,2,3))\n",
    "print(\"shape:\", arr.shape ,arr)\n",
    "\n",
    "# create an array of shape (3,) with value (1,1,1)\n",
    "arr = np.ones((3,))\n",
    "print(\"shape:\", arr.shape ,arr)\n",
    "\n",
    "# create an array of shape (3,) with value (0,0,0)\n",
    "arr = np.zeros((3,))\n",
    "print(\"shape:\", arr.shape ,arr)\n",
    "\n",
    "# create an array of shape (3,) with value (0,1,2)\n",
    "arr = np.arange(3)\n",
    "print(\"shape:\", arr.shape ,arr)\n",
    "\n",
    "# create an array of shape (3,) with random value\n",
    "arr = np.random.randn(3)\n",
    "print(\"shape:\", arr.shape ,arr)"
   ]
  },
  {
   "cell_type": "code",
   "execution_count": null,
   "id": "4f46934a-c619-442c-9baf-123702061668",
   "metadata": {},
   "outputs": [],
   "source": [
    "# Create array of 2D\n",
    "# create an array of shape (2,3) with value (1,2,3)\n",
    "arr = np.array(((1,2,3), (4,5,6)))\n",
    "print(\"shape:\", arr.shape, \"\\n\", arr)\n",
    "\n",
    "# create an array of shape (2,3) with value 1 values\n",
    "arr = np.ones((2, 3))\n",
    "print(\"shape:\", arr.shape, \"\\n\", arr)\n",
    "\n",
    "# create an array of shape (2,3) with value 0 values\n",
    "arr = np.zeros((2,3))\n",
    "print(\"shape:\", arr.shape, \"\\n\", arr)\n",
    "\n",
    "# create an array of shape (2,3) with value from 0 to 5\n",
    "arr = np.arange(6).reshape(2, 3)\n",
    "print(\"shape:\", arr.shape, \"\\n\", arr)\n",
    "\n",
    "# create an array of shape (2,3) with random value\n",
    "arr = np.random.randn(2, 3)\n",
    "print(\"shape:\", arr.shape, \"\\n\", arr)\n",
    "\n",
    "# create identity matrice of shape (3,3)\n",
    "arr = np.eye(3)\n",
    "print(\"shape:\", arr.shape, \"\\n\", arr)"
   ]
  },
  {
   "cell_type": "markdown",
   "id": "2cf0509d-65b7-45d9-bf3c-c2129130e7f3",
   "metadata": {},
   "source": [
    "## Changing array shape"
   ]
  },
  {
   "cell_type": "code",
   "execution_count": null,
   "id": "ca18766a-6104-460e-8440-5495b0253624",
   "metadata": {},
   "outputs": [],
   "source": [
    "arr = np.arange(9)\n",
    "print(\"shape:\", arr.shape, \"\\n\", arr)\n",
    "\n",
    "arr = arr.ravel()\n",
    "print(\"shape:\", arr.shape, \"\\n\", arr)\n",
    "\n",
    "arr = arr.reshape(3,3)\n",
    "print(\"shape:\", arr.shape, \"\\n\", arr)\n",
    "\n",
    "arr = arr.reshape(3,3)[np.newaxis]\n",
    "print(\"shape:\", arr.shape, \"\\n\", arr)\n",
    "\n",
    "arr = arr.squeeze()\n",
    "print(\"shape:\", arr.shape, \"\\n\", arr)\n",
    "\n",
    "arr = arr.flatten()\n",
    "print(\"shape:\", arr.shape, \"\\n\", arr)\n",
    "\n",
    "arr = arr.reshape(9,-1)\n",
    "print(\"shape:\", arr.shape, \"\\n\", arr)\n",
    "\n",
    "arr = arr[:,np.newaxis]\n",
    "print(\"shape:\", arr.shape, \"\\n\", arr)\n",
    "\n",
    "arr = arr.squeeze().reshape(3,3)\n",
    "print(\"shape:\", arr.shape, \"\\n\", arr)"
   ]
  },
  {
   "cell_type": "code",
   "execution_count": null,
   "id": "fea3dcce-506b-4425-8a4e-ec94d31b9d9e",
   "metadata": {},
   "outputs": [],
   "source": []
  }
 ],
 "metadata": {
  "kernelspec": {
   "display_name": "Python 3 (ipykernel)",
   "language": "python",
   "name": "python3"
  },
  "language_info": {
   "codemirror_mode": {
    "name": "ipython",
    "version": 3
   },
   "file_extension": ".py",
   "mimetype": "text/x-python",
   "name": "python",
   "nbconvert_exporter": "python",
   "pygments_lexer": "ipython3",
   "version": "3.9.21"
  }
 },
 "nbformat": 4,
 "nbformat_minor": 5
}
