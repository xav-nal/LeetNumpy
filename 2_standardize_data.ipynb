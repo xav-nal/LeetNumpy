{
 "cells": [
  {
   "cell_type": "markdown",
   "id": "ef9fd264-7e2e-43c6-9ff2-0e080b3650d4",
   "metadata": {},
   "source": [
    "### 2. Standardize Data\n",
    "Description:\n",
    "\n",
    "You are given a square matrix represented as a 2D NumPy array of size (n, n). Your task is to rotate the matrix by 90 degrees clockwise in-place and return the rotated matrix.\n",
    "\n",
    "You are given a 2D NumPy array matrix of shape \\( (n, m) \\) where \\( n \\) represents the number of rows and \\( m \\) represents the number of columns. Your task is to implement a function that standardizes the data across each column, such that each column has a mean of 0 and a standard deviation of 1.\n",
    "\n",
    "The formula for standardizing a value \\( x_{i,j} \\) in the 2D array is:\n",
    "\n",
    "$$\n",
    "z_{i,j} = \\frac{x_{i,j} - \\mu_j}{\\sigma_j}\n",
    "$$\n"
   ]
  },
  {
   "cell_type": "markdown",
   "id": "f890a411-4fe0-446e-80a3-fea534a7b6b1",
   "metadata": {},
   "source": [
    "### Code"
   ]
  },
  {
   "cell_type": "code",
   "execution_count": null,
   "id": "e6e27af3-7e07-4be1-920b-ca18fd3e1e28",
   "metadata": {},
   "outputs": [],
   "source": [
    "import numpy as np\n",
    "def standardize(x: np.ndarray) -> np.ndarray:\n",
    "    # ***************************************************\n",
    "    # INSERT YOUR CODE HERE\n",
    "    # ***************************************************\n",
    "    return x"
   ]
  },
  {
   "cell_type": "markdown",
   "id": "5fa38d40-eef1-4a1c-b271-f592db833090",
   "metadata": {},
   "source": [
    "### Run"
   ]
  },
  {
   "cell_type": "code",
   "execution_count": null,
   "id": "4009e11a-722d-4f39-ad47-41c1149b5f18",
   "metadata": {},
   "outputs": [],
   "source": [
    "n, m = 5, 10\n",
    "np.random.seed(42)\n",
    "for n in range(2,10):\n",
    "    for m in range(2,10):\n",
    "        matrix = np.random.rand(n, m)\n",
    "        matrix = standardize(matrix)\n",
    "    \n",
    "        epsilon = 1e-14\n",
    "        assert np.allclose(np.mean(matrix_sol, axis=0), 0, atol=epsilon), \\\n",
    "    f\"The mean of matrix is not close to zero. Expected 0, but got {np.mean(matrix_sol, axis=0)}\"\n",
    "\n",
    "        assert np.allclose(np.std(matrix_sol, axis=0), 1, atol=epsilon), \\\n",
    "            \"The standard deviation of matrix is not close to 1\"\n",
    "print(\"Test are working\")"
   ]
  }
 ],
 "metadata": {
  "kernelspec": {
   "display_name": "Python 3 (ipykernel)",
   "language": "python",
   "name": "python3"
  },
  "language_info": {
   "codemirror_mode": {
    "name": "ipython",
    "version": 3
   },
   "file_extension": ".py",
   "mimetype": "text/x-python",
   "name": "python",
   "nbconvert_exporter": "python",
   "pygments_lexer": "ipython3",
   "version": "3.9.21"
  }
 },
 "nbformat": 4,
 "nbformat_minor": 5
}
